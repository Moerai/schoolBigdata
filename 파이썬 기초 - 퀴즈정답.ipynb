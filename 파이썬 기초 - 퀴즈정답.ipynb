{
 "cells": [
  {
   "cell_type": "markdown",
   "metadata": {},
   "source": [
    "# 1. 영화 추천 함수 만들기\n",
    "## 내가 선호하는 장르를 입력받아서, 해당 장르인 영화들을 추천해주기. \n",
    "### 영화 목록 및 장르는 아래와 같음\n",
    "#### 1. 레옹: 멜로, 액션\n",
    "#### 2. 터미네이터2 : SF, 액션\n",
    "#### 3. 죽은 시인의 사회 : 드라마\n",
    "#### 4. 토이 스토리 3: 애니메이션, 드라마\n",
    "#### 5. 살인의 추억: 스릴러\n",
    "#### 6. 오페라의 유령: 드라마, 뮤지컬\n",
    "#### 7. 쇼생크 탈출: 드라마\n",
    "#### 8. 클래식: 드라마, 멜로"
   ]
  },
  {
   "cell_type": "code",
   "execution_count": 10,
   "metadata": {
    "collapsed": true
   },
   "outputs": [],
   "source": [
    "def 영화추천(장르):\n",
    "    추천영화 = []\n",
    "    영화 = {'레옹': ['멜로', '액션'],\n",
    "          '터미네이터2' : ['SF', '액션'],\n",
    "          '죽은 시인의 사회' : '드라마',\n",
    "          '토이 스토리 3': ['애니메이션','드라마'],\n",
    "          '살인의 추억': '스릴러',\n",
    "          '오페라의 유령': ['드라마', '뮤지컬'],\n",
    "          '쇼생크 탈출': '드라마',\n",
    "          '클래식': ['드라마', '멜로']}\n",
    "    for 영화제목, 영화장르 in 영화.items():\n",
    "        if 장르 in 영화장르:\n",
    "            추천영화.append(영화제목)\n",
    "    return 추천영화\n"
   ]
  },
  {
   "cell_type": "code",
   "execution_count": 11,
   "metadata": {},
   "outputs": [
    {
     "data": {
      "text/plain": [
       "['살인의 추억']"
      ]
     },
     "execution_count": 11,
     "metadata": {},
     "output_type": "execute_result"
    }
   ],
   "source": [
    "영화추천('스릴러')"
   ]
  },
  {
   "cell_type": "markdown",
   "metadata": {
    "collapsed": true
   },
   "source": [
    "# 2. 숫자 맞추기 게임\n",
    "## 랜덤하게 정답을 생성한 후, 정답을 맞추는 게임\n",
    "![ex_screenshot](./img/분석1/2숫자맞추기게임.jpg)"
   ]
  },
  {
   "cell_type": "code",
   "execution_count": 12,
   "metadata": {},
   "outputs": [
    {
     "name": "stdout",
     "output_type": "stream",
     "text": [
      "1~100 숫자 맞추기 게임을 시작합니다 !!!\n",
      "---------------------------\n",
      "1 ~ 100 사이의 숫자를 입력하세요 : 50\n",
      "Down\n",
      "1 ~ 100 사이의 숫자를 입력하세요 : 25\n",
      "Up\n",
      "1 ~ 100 사이의 숫자를 입력하세요 : 35\n",
      "Up\n",
      "1 ~ 100 사이의 숫자를 입력하세요 : 43\n",
      "Down\n",
      "1 ~ 100 사이의 숫자를 입력하세요 : 40\n",
      "Up\n",
      "1 ~ 100 사이의 숫자를 입력하세요 : 41\n",
      "---------------------------\n",
      "6번 만에 정답을 맞추셨습니다.\n"
     ]
    }
   ],
   "source": [
    "import random\n",
    "# 게임을 위한  정답을 랜덤한 숫자로 생성 \n",
    "정답 = random.randrange(1, 101) # 1~100 사이의 값을 랜덤하게 생성\n",
    "숫자 = -1\n",
    "시도횟수 = 0 \n",
    "\n",
    "print(\"1~100 숫자 맞추기 게임을 시작합니다 !!!\")\n",
    "print(\"---------------------------\")\n",
    "while 숫자 != 정답 :\n",
    "    숫자 = int(input(\"1 ~ 100 사이의 숫자를 입력하세요 : \"))\n",
    "    if (숫자 > 정답):\n",
    "        print(\"Down\")\n",
    "    elif (숫자 < 정답):\n",
    "        print(\"Up\")\n",
    "    시도횟수 += 1\n",
    "print(\"---------------------------\")\n",
    "print('{0}번 만에 정답을 맞추셨습니다.'.format(시도횟수))"
   ]
  },
  {
   "cell_type": "code",
   "execution_count": 13,
   "metadata": {
    "collapsed": true
   },
   "outputs": [],
   "source": [
    "import random"
   ]
  },
  {
   "cell_type": "markdown",
   "metadata": {},
   "source": [
    "# 3. 로또 맞추기\n",
    "### 1) 로또 정답 생성 (번호의 갯수는 4개이고, 각 번호는 1~20 사이의 값이다.)\n",
    "### 2) 로또 번호들을 생성하여, 정답과 비교\n",
    "### 3) 정답을 맞추면, 정답을 맞추기까지 시도한 횟수를 출력\n",
    "![ex_screenshot](./img/분석1/3로또게임.jpg)\n",
    "### 4) 실제 로또와 같이 1~46까지의 숫자로 이루어진 6개의 번호로 실행해 보세요."
   ]
  },
  {
   "cell_type": "code",
   "execution_count": 14,
   "metadata": {
    "collapsed": true
   },
   "outputs": [],
   "source": [
    "def 로또번호생성(개수=6, 범위=46):\n",
    "    로또번호 = set()\n",
    "    while len(로또번호) != 개수:\n",
    "        로또번호.add(random.randrange(1, 범위+1))\n",
    "    return 로또번호"
   ]
  },
  {
   "cell_type": "code",
   "execution_count": 15,
   "metadata": {
    "collapsed": true
   },
   "outputs": [],
   "source": [
    "#위와 같이 '로또번호생성' 함수를 사용하는 것보다, random.sample() 함수를 사용하면 훨씬 간결해진다.\n",
    "def 로또번호생성(개수=6, 범위=46):\n",
    "    return set(random.sample(range(1, 범위+1), 개수))"
   ]
  },
  {
   "cell_type": "code",
   "execution_count": 17,
   "metadata": {},
   "outputs": [
    {
     "name": "stdout",
     "output_type": "stream",
     "text": [
      "로또 게임을 시작합니다.\n",
      "이번 주 당첨 번호는 {6, 45, 15, 25, 27, 31}입니다.\n",
      "---------------------\n",
      "2320484번 만에 로또에 당첨되셨습니다!. 당신이 로또 당첨까지 사용한 금액은 2,320,484,000원입니다.\n"
     ]
    }
   ],
   "source": [
    "print('로또 게임을 시작합니다.')\n",
    "개수 = 6\n",
    "범위 = 46\n",
    "정답 = 로또번호생성(개수, 범위)\n",
    "시도횟수 = 0\n",
    "#print(정답)\n",
    "print('이번 주 당첨 번호는 {0}입니다.'.format(정답))\n",
    "print('---------------------')\n",
    "while True:\n",
    "    시도번호 = 로또번호생성(개수, 범위)\n",
    "    if 정답 == 시도번호:\n",
    "        break\n",
    "    시도횟수+=1\n",
    "print('{0}번 만에 로또에 당첨되셨습니다!. 당신이 로또 당첨까지 사용한 금액은 {1:,}원입니다.'.format(시도횟수, 시도횟수*1000))"
   ]
  },
  {
   "cell_type": "markdown",
   "metadata": {},
   "source": [
    "# 4. 숫자 야구 게임\n",
    "![ex_screenshot](./img/분석1/4숫자게임.jpg)\n",
    "## 숫자야구 하는 법\n",
    "### 1. 0~9까지 임의의 3자리 수를 정답으로 정한다.\n",
    "### 2. 내가 임의의 3자리 수를 입력한다. (input() 사용)\n",
    "### 3. 정답과 내가 임력한 수를 비교하여 스트라이크(S), 볼(B)의 개수를 알려준다.\n",
    "    1) 스트라이크(S)는 내가 입력한 네자리 수 중에서 정답과 같은 수가 같은 자리에 있는 경우이다. \n",
    "    2) 볼(B)은 내가 입력한 네자리 수 중에서 정답과 같은 수가 다른 자리에 있는 경우이다. \n",
    "### 4. 스트라이크(3S, 임의의 숫자 3자리 수를 맞춘 경우)일 때 게임이 끝난다.\n",
    "\n",
    "![ex_screenshot](./img/분석1/5숫자야구게임결과.jpg)"
   ]
  },
  {
   "cell_type": "code",
   "execution_count": 18,
   "metadata": {
    "collapsed": true
   },
   "outputs": [],
   "source": [
    "import random\n",
    "def 야구게임 (입력값, 야구게임정답):\n",
    "    스트라이크 = 0\n",
    "    볼 = 0\n",
    "    for i in range(3):\n",
    "        for j in range(3):\n",
    "            if 입력값[i] == 야구게임정답[j]:\n",
    "                if i == j:\n",
    "                    스트라이크 += 1\n",
    "                else:\n",
    "                    볼+=1\n",
    "    return 스트라이크, 볼\n",
    "\n",
    "def 야구게임정답생성(개수=3):\n",
    "    return list(random.sample(range(1,10), 개수))\n",
    "    "
   ]
  },
  {
   "cell_type": "code",
   "execution_count": 19,
   "metadata": {},
   "outputs": [
    {
     "data": {
      "text/plain": [
       "[5, 2, 1]"
      ]
     },
     "execution_count": 19,
     "metadata": {},
     "output_type": "execute_result"
    }
   ],
   "source": [
    "야구게임정답생성()"
   ]
  },
  {
   "cell_type": "code",
   "execution_count": 20,
   "metadata": {},
   "outputs": [
    {
     "name": "stdout",
     "output_type": "stream",
     "text": [
      "숫자 야구 게임을 시작합니다.\n",
      "------------\n",
      "3자리 숫자를 입력하시오.123\n",
      "0 스트라이크 1 볼\n",
      "3자리 숫자를 입력하시오.456\n",
      "0 스트라이크 0 볼\n",
      "3자리 숫자를 입력하시오.178\n",
      "0 스트라이크 2 볼\n",
      "3자리 숫자를 입력하시오.189\n",
      "0 스트라이크 1 볼\n",
      "3자리 숫자를 입력하시오.837\n",
      "-----------------------\n",
      "5번 만에 정답을 맞추셨습니다.\n"
     ]
    }
   ],
   "source": [
    "야구게임정답 = 야구게임정답생성()\n",
    "시도횟수 = 0\n",
    "print('숫자 야구 게임을 시작합니다.')\n",
    "print('------------')\n",
    "while True :\n",
    "    입력값 = input('3자리 숫자를 입력하시오.')\n",
    "    입력값목록 = [int(n) for n in 입력값]\n",
    "    #print(입력값목록)\n",
    "    시도횟수+=1\n",
    "    if 입력값목록 == 야구게임정답 :\n",
    "        break\n",
    "    결과 = 야구게임(입력값목록, 야구게임정답)\n",
    "    print('{0} 스트라이크 {1} 볼'.format(결과[0], 결과[1]))\n",
    "print('-----------------------')\n",
    "print('{0}번 만에 정답을 맞추셨습니다.'.format(시도횟수))\n",
    "    "
   ]
  }
 ],
 "metadata": {
  "kernelspec": {
   "display_name": "Python 3",
   "language": "python",
   "name": "python3"
  },
  "language_info": {
   "codemirror_mode": {
    "name": "ipython",
    "version": 3
   },
   "file_extension": ".py",
   "mimetype": "text/x-python",
   "name": "python",
   "nbconvert_exporter": "python",
   "pygments_lexer": "ipython3",
   "version": "3.6.3"
  }
 },
 "nbformat": 4,
 "nbformat_minor": 2
}
