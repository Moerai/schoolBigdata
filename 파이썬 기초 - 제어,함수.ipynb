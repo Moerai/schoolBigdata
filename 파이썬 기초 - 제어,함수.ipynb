{
 "cells": [
  {
   "cell_type": "markdown",
   "metadata": {},
   "source": [
    "# 제어문\n",
    "\n",
    "![ex_screenshot](./img/제어/1제어.jpg)"
   ]
  },
  {
   "cell_type": "markdown",
   "metadata": {},
   "source": [
    "## 1. IF문\n",
    "\n",
    "![ex_screenshot](./img/제어/2.if문.jpg)"
   ]
  },
  {
   "cell_type": "code",
   "execution_count": 1,
   "metadata": {},
   "outputs": [
    {
     "name": "stdout",
     "output_type": "stream",
     "text": [
      "내 점수는 70점입니다.\n",
      "내년에 다시 만나요~~^^\n"
     ]
    }
   ],
   "source": [
    "내점수 =70 \n",
    "#내 점수를 콘솔로 입력받고 싶은 경우 input() 함수 사용 가능.\n",
    "#내점수 = int(input())\n",
    "if 내점수 >= 90 :\n",
    "    print((\"내 점수는 {0}점입니다.\").format(내점수))\n",
    "    print(\"축하합니다. A+입니다.\")\n",
    "elif 내점수 >= 80 :\n",
    "    print((\"내 점수는 {0}점입니다.\").format(내점수))\n",
    "    print(\"축하합니다. B+입니다.\")\n",
    "else :\n",
    "    print((\"내 점수는 {0}점입니다.\").format(내점수))\n",
    "    print(\"내년에 다시 만나요~~^^\") "
   ]
  },
  {
   "cell_type": "code",
   "execution_count": 2,
   "metadata": {},
   "outputs": [
    {
     "name": "stdout",
     "output_type": "stream",
     "text": [
      "오늘의 나의 메뉴는 스테이크입니다.\n"
     ]
    }
   ],
   "source": [
    "# 실습\n",
    "돈 = 50000\n",
    "성향 = '고기' #고기 or 생선\n",
    "# 내가 현재 가지고 있는 돈과 성향을 바탕으로 메뉴를 골라주는 프로그램을 작성하시오. \n",
    "# 돈이 5만원 이상인 경우 고기 성향이면 스테이크, 생선 성향이면 참치회\n",
    "# 돈이 2~5만원인 경우 고기 성향이면 소갈비살, 생선 성향이면 초밥\n",
    "#돈이 1~2만원인 경우 고기 성향이면 삽겹살, 생성 성향이면 생선구이\n",
    "# 그 외의 경우에는 잔치국수\n",
    "if 돈 >= 50000:\n",
    "    if 성향 == '고기':\n",
    "        메뉴 = '스테이크'\n",
    "    elif 성향 == '생선':\n",
    "        메뉴 ='참치회'\n",
    "elif 돈 >= 20000 and 돈 < 50000:\n",
    "    if 성향 == '고기':\n",
    "        메뉴 = '소갈비살'\n",
    "    elif 성향 == '생선':\n",
    "        메뉴 ='초밥'\n",
    "elif 돈 >= 10000 and 돈 < 20000:\n",
    "    if 성향 == '고기':\n",
    "        메뉴 = '삽겹살'\n",
    "    elif 성향 == '생선':\n",
    "        메뉴 ='생선구이'\n",
    "else:\n",
    "    메뉴 = '잔치국수'\n",
    "print('오늘의 나의 메뉴는 {0}입니다.'.format(메뉴))\n"
   ]
  },
  {
   "cell_type": "markdown",
   "metadata": {},
   "source": [
    "# 2. For 문 실습\n",
    "![ex_screenshot](./img/제어/3반복문.jpg)"
   ]
  },
  {
   "cell_type": "markdown",
   "metadata": {},
   "source": [
    "### 1) while 반복문"
   ]
  },
  {
   "cell_type": "code",
   "execution_count": 3,
   "metadata": {},
   "outputs": [
    {
     "name": "stdout",
     "output_type": "stream",
     "text": [
      "0\n",
      "10\n",
      "20\n",
      "30\n",
      "40\n",
      "50\n",
      "60\n",
      "70\n",
      "80\n",
      "90\n",
      "라면 끓어먹자!\n"
     ]
    }
   ],
   "source": [
    "#1. 기본 While 문\n",
    "물온도 = 0\n",
    "while 물온도 < 100:\n",
    "    print(물온도)\n",
    "    물온도 += 10\n",
    "print(\"라면 끓어먹자!\")"
   ]
  },
  {
   "cell_type": "code",
   "execution_count": 4,
   "metadata": {},
   "outputs": [
    {
     "name": "stdout",
     "output_type": "stream",
     "text": [
      "아직 조금 더 기다려. 온도가 0 밖에 안됐어.\n",
      "아직 조금 더 기다려. 온도가 10 밖에 안됐어.\n",
      "아직 조금 더 기다려. 온도가 20 밖에 안됐어.\n",
      "아직 조금 더 기다려. 온도가 30 밖에 안됐어.\n",
      "아직 조금 더 기다려. 온도가 40 밖에 안됐어.\n",
      "아직 조금 더 기다려. 온도가 50 밖에 안됐어.\n",
      "아직 조금 더 기다려. 온도가 60 밖에 안됐어.\n",
      "아직 조금 더 기다려. 온도가 70 밖에 안됐어.\n",
      "아직 조금 더 기다려. 온도가 80 밖에 안됐어.\n",
      "아직 조금 더 기다려. 온도가 90 밖에 안됐어.\n",
      "이제 100도다. 고고고~\n",
      "라면 먹자\n"
     ]
    }
   ],
   "source": [
    "#2. else 구문과 함께 사용하는 While 문\n",
    "물온도 = 0\n",
    "while 물온도 < 100:\n",
    "    print((\"아직 조금 더 기다려. 온도가 {0} 밖에 안됐어.\").format(물온도))\n",
    "    물온도 += 10    \n",
    "else:\n",
    "    print(\"이제 100도다. 고고고~\")\n",
    "print(\"라면 먹자\")"
   ]
  },
  {
   "cell_type": "code",
   "execution_count": 5,
   "metadata": {},
   "outputs": [
    {
     "name": "stdout",
     "output_type": "stream",
     "text": [
      "고? 스톱? [고/스톱]:\n",
      "rh\n",
      ">> 고/스톱 중 하나를 입력하세요.\n",
      "고\n",
      "1 고!!\n",
      "고\n",
      "2 고!!\n",
      "스톱\n",
      ">> 이제 스톱~\n"
     ]
    }
   ],
   "source": [
    "#3. 무한 반복문\n",
    "횟수 = 0\n",
    "print('고? 스톱? [고/스톱]:')\n",
    "while True:\n",
    "    답 = input()\n",
    "    if 답 == '고':\n",
    "        횟수+=1\n",
    "        print(('{0} 고!!').format(횟수))\n",
    "    elif 답 == '스톱':\n",
    "        print('>> 이제 스톱~')\n",
    "        break\n",
    "    else:\n",
    "        print('>> 고/스톱 중 하나를 입력하세요.')"
   ]
  },
  {
   "cell_type": "markdown",
   "metadata": {},
   "source": [
    "### 2. For 반복문"
   ]
  },
  {
   "cell_type": "code",
   "execution_count": 6,
   "metadata": {
    "collapsed": true
   },
   "outputs": [],
   "source": [
    "# 1. For 반복문 with Range\n",
    "# range(start, end, interval) 함수를 사용해서 'start' 부터 'end' 보다 작은 정수값을 'interval' 정수값 만큼 간격을 두고 증가하는 순서열\n",
    "# start의 기본값은 0, interval의 기본값은 1\n",
    "# python 2.X 버전에서는 range()와 xrange()가 있었으나, python 3.X에서는 range() 하나로 통일됨. (기존의 range() 는 없어지고, xrange()가 range()가 됨.)"
   ]
  },
  {
   "cell_type": "code",
   "execution_count": 7,
   "metadata": {
    "scrolled": false
   },
   "outputs": [
    {
     "data": {
      "text/plain": [
       "range(0, 10)"
      ]
     },
     "execution_count": 7,
     "metadata": {},
     "output_type": "execute_result"
    }
   ],
   "source": [
    "range(10)"
   ]
  },
  {
   "cell_type": "code",
   "execution_count": 8,
   "metadata": {},
   "outputs": [
    {
     "data": {
      "text/plain": [
       "[0, 1, 2, 3, 4, 5, 6, 7, 8, 9]"
      ]
     },
     "execution_count": 8,
     "metadata": {},
     "output_type": "execute_result"
    }
   ],
   "source": [
    "list(range(10)) #실제 list 객체를 생성 \n",
    "#변수에 선언하지 않는 경우에는 gc의 대상이 됨. (refcount = 0)"
   ]
  },
  {
   "cell_type": "code",
   "execution_count": 9,
   "metadata": {},
   "outputs": [
    {
     "data": {
      "text/plain": [
       "(0, 2, 4, 6, 8)"
      ]
     },
     "execution_count": 9,
     "metadata": {},
     "output_type": "execute_result"
    }
   ],
   "source": [
    "tuple(range(0,10,2))\n",
    "#dict(range(0,10,2))"
   ]
  },
  {
   "cell_type": "code",
   "execution_count": 10,
   "metadata": {},
   "outputs": [
    {
     "name": "stdout",
     "output_type": "stream",
     "text": [
      "0\n",
      "1\n",
      "2\n",
      "3\n",
      "4\n"
     ]
    }
   ],
   "source": [
    "for i in range(0, 5, 1): # (start, end, interval)\n",
    "    print(i)"
   ]
  },
  {
   "cell_type": "code",
   "execution_count": 11,
   "metadata": {
    "scrolled": true
   },
   "outputs": [
    {
     "name": "stdout",
     "output_type": "stream",
     "text": [
      "0\n",
      "1\n",
      "2\n",
      "3\n",
      "4\n"
     ]
    }
   ],
   "source": [
    "for i in range(0, 5): # interval 기본값은 1\n",
    "    print(i)"
   ]
  },
  {
   "cell_type": "code",
   "execution_count": 12,
   "metadata": {},
   "outputs": [
    {
     "name": "stdout",
     "output_type": "stream",
     "text": [
      "0\n",
      "1\n",
      "2\n",
      "3\n",
      "4\n"
     ]
    }
   ],
   "source": [
    "for i in range(5): # start 기본값은 0\n",
    "    print(i)"
   ]
  },
  {
   "cell_type": "code",
   "execution_count": 13,
   "metadata": {},
   "outputs": [
    {
     "name": "stdout",
     "output_type": "stream",
     "text": [
      "3\n",
      "5\n",
      "7\n",
      "9\n"
     ]
    }
   ],
   "source": [
    "for i in range(3, 10, 2): # (start, end, interval)\n",
    "    print(i)"
   ]
  },
  {
   "cell_type": "code",
   "execution_count": 14,
   "metadata": {
    "collapsed": true
   },
   "outputs": [],
   "source": [
    "#2. For 반복문 with 튜플(Tuple)"
   ]
  },
  {
   "cell_type": "code",
   "execution_count": 15,
   "metadata": {},
   "outputs": [
    {
     "name": "stdout",
     "output_type": "stream",
     "text": [
      "2\n",
      "4\n",
      "6\n",
      "8\n",
      "10\n",
      "12\n"
     ]
    }
   ],
   "source": [
    "for 값 in (1,2,3,4,5,6):\n",
    "    print(값*2)"
   ]
  },
  {
   "cell_type": "code",
   "execution_count": 16,
   "metadata": {
    "scrolled": true
   },
   "outputs": [
    {
     "name": "stdout",
     "output_type": "stream",
     "text": [
      "박홍규\n",
      "30\n",
      "1990년\n",
      "1.5\n"
     ]
    }
   ],
   "source": [
    "for 값 in ('박홍규', 30, '1990년', 1.5):\n",
    "    print(값)"
   ]
  },
  {
   "cell_type": "code",
   "execution_count": 17,
   "metadata": {},
   "outputs": [
    {
     "name": "stdout",
     "output_type": "stream",
     "text": [
      "파이썬\n",
      "자바\n",
      "C\n"
     ]
    }
   ],
   "source": [
    "#3. for 반복문 with 리스트 (list)\n",
    "for 언어 in ['파이썬', '자바', 'C']:\n",
    "    print(언어)"
   ]
  },
  {
   "cell_type": "code",
   "execution_count": 18,
   "metadata": {},
   "outputs": [
    {
     "name": "stdout",
     "output_type": "stream",
     "text": [
      "파\n",
      "이\n",
      "썬\n",
      " \n",
      "정\n",
      "말\n",
      " \n",
      "쉽\n",
      "네\n"
     ]
    }
   ],
   "source": [
    "#4. for 반복문 with 문자열 (string)\n",
    "for 문자열 in ('파이썬 정말 쉽네'):\n",
    "    print(문자열)"
   ]
  },
  {
   "cell_type": "code",
   "execution_count": 19,
   "metadata": {},
   "outputs": [
    {
     "name": "stdout",
     "output_type": "stream",
     "text": [
      "2 3\n",
      "4 5\n",
      "6 7\n"
     ]
    }
   ],
   "source": [
    "#5. unpacking 예제\n",
    "for x,y in [(1,2), (3,4), (5,6)]:\n",
    "    print (x+1, y+1)"
   ]
  },
  {
   "cell_type": "code",
   "execution_count": 20,
   "metadata": {},
   "outputs": [
    {
     "name": "stdout",
     "output_type": "stream",
     "text": [
      "2 3\n",
      "4 5\n",
      "6 7\n"
     ]
    }
   ],
   "source": [
    "for 항목 in [(1,2), (3,4), (5,6)]:\n",
    "    x,y = 항목\n",
    "    print (x+1, y+1)"
   ]
  },
  {
   "cell_type": "code",
   "execution_count": 21,
   "metadata": {
    "collapsed": true
   },
   "outputs": [],
   "source": [
    "#6. for 반복문 with 사전"
   ]
  },
  {
   "cell_type": "code",
   "execution_count": 22,
   "metadata": {
    "scrolled": true
   },
   "outputs": [
    {
     "name": "stdout",
     "output_type": "stream",
     "text": [
      "이름: 박홍규\n",
      "이메일: hongkyu211@dongyang.ac.kr\n",
      "나이: 30\n",
      "전화번호: 010-5207-0211\n"
     ]
    }
   ],
   "source": [
    "연락처 = {'이름': '박홍규', \n",
    "            '이메일': 'hongkyu211@dongyang.ac.kr', \n",
    "            '나이': 30,\n",
    "            '전화번호':'010-5207-0211'}\n",
    "for 키 in 연락처: \n",
    "    값 = 연락처[키]\n",
    "    print('{0}: {1}'.format(키, 값))"
   ]
  },
  {
   "cell_type": "code",
   "execution_count": 23,
   "metadata": {},
   "outputs": [
    {
     "name": "stdout",
     "output_type": "stream",
     "text": [
      "이름: 박홍규\n",
      "이메일: hongkyu211@dongyang.ac.kr\n",
      "나이: 30\n",
      "전화번호: 010-5207-0211\n"
     ]
    }
   ],
   "source": [
    "for 키, 값 in 연락처.items(): # tuple unpacking\n",
    "    print('{0}: {1}'.format(키, 값))"
   ]
  },
  {
   "cell_type": "code",
   "execution_count": 24,
   "metadata": {},
   "outputs": [
    {
     "name": "stdout",
     "output_type": "stream",
     "text": [
      "[0, 2, 4, 6, 8]\n",
      "['0반', '1반', '2반', '3반', '4반']\n"
     ]
    }
   ],
   "source": [
    "#내장 리스트 또는 리스트 내포\n",
    "#리스트의 모든 항목에 동일한 함수를 적용해서 사용하고 싶을 때\n",
    "#빈번하고 광범위하게 사용됨.\n",
    "nums = list(range(5))\n",
    "nums2 = [n*2 for n in nums]\n",
    "print(nums2)\n",
    "nums3 = [str(n) + '반' for n in nums]\n",
    "print(nums3)"
   ]
  },
  {
   "cell_type": "code",
   "execution_count": 25,
   "metadata": {},
   "outputs": [
    {
     "name": "stdout",
     "output_type": "stream",
     "text": [
      "0\n",
      "1\n",
      "2\n",
      "4\n"
     ]
    }
   ],
   "source": [
    "#7. continue, break\n",
    "for n in range(10):\n",
    "    if n == 3:\n",
    "        continue\n",
    "    elif n == 5:\n",
    "        break\n",
    "    print(n)"
   ]
  },
  {
   "cell_type": "code",
   "execution_count": 26,
   "metadata": {},
   "outputs": [
    {
     "name": "stdout",
     "output_type": "stream",
     "text": [
      "빅데이터분석: 박홍규\n",
      "자바실무프로젝트: 김동양\n"
     ]
    }
   ],
   "source": [
    "# For 실습\n",
    "# 이번 학기에 내가 듣고 있는 과목의 이름과 담당교수명을 사전 타입으로 선언하고, 아래와 같이 출력하시오. \n",
    "# 빅데이터분석: 박홍규 \n",
    "#  자바실무프로젝트: 강은영,...\n",
    "수강과목 = {'빅데이터분석':'박홍규',\n",
    "                   '자바실무프로젝트':'김동양'}\n",
    "for 과목명, 담당교수 in 수강과목.items(): # tuple unpacking\n",
    "    print('{0}: {1}'.format(과목명, 담당교수))"
   ]
  },
  {
   "cell_type": "markdown",
   "metadata": {},
   "source": [
    "# 3. 함수\n",
    "![ex_screenshot](./img/제어/4함수정의.jpg)"
   ]
  },
  {
   "cell_type": "code",
   "execution_count": 27,
   "metadata": {
    "collapsed": true
   },
   "outputs": [],
   "source": [
    "def add(a,b):\n",
    "    '''간단한 덧셈 (혹은 문자열 붙이기)을 수행하는 함수'''\n",
    "    print(('인자는 {0}와 {1}입니다.').format(a,b))\n",
    "    return a+b"
   ]
  },
  {
   "cell_type": "code",
   "execution_count": 28,
   "metadata": {},
   "outputs": [
    {
     "name": "stdout",
     "output_type": "stream",
     "text": [
      "Help on function add in module __main__:\n",
      "\n",
      "add(a, b)\n",
      "    간단한 덧셈 (혹은 문자열 붙이기)을 수행하는 함수\n",
      "\n"
     ]
    }
   ],
   "source": [
    "help(add)"
   ]
  },
  {
   "cell_type": "code",
   "execution_count": 29,
   "metadata": {},
   "outputs": [
    {
     "name": "stdout",
     "output_type": "stream",
     "text": [
      "인자는 1와 5입니다.\n"
     ]
    },
    {
     "data": {
      "text/plain": [
       "6"
      ]
     },
     "execution_count": 29,
     "metadata": {},
     "output_type": "execute_result"
    }
   ],
   "source": [
    "add(1,5)"
   ]
  },
  {
   "cell_type": "code",
   "execution_count": 30,
   "metadata": {},
   "outputs": [
    {
     "name": "stdout",
     "output_type": "stream",
     "text": [
      "인자는 park와 hongkyu입니다.\n"
     ]
    },
    {
     "data": {
      "text/plain": [
       "'parkhongkyu'"
      ]
     },
     "execution_count": 30,
     "metadata": {},
     "output_type": "execute_result"
    }
   ],
   "source": [
    "add('park', 'hongkyu')"
   ]
  },
  {
   "cell_type": "code",
   "execution_count": 31,
   "metadata": {
    "scrolled": true
   },
   "outputs": [
    {
     "name": "stdout",
     "output_type": "stream",
     "text": [
      "인자는 [1, 2, 3]와 [4, 5, 6]입니다.\n"
     ]
    },
    {
     "data": {
      "text/plain": [
       "[1, 2, 3, 4, 5, 6]"
      ]
     },
     "execution_count": 31,
     "metadata": {},
     "output_type": "execute_result"
    }
   ],
   "source": [
    "add([1,2,3], [4,5,6])"
   ]
  },
  {
   "cell_type": "code",
   "execution_count": 32,
   "metadata": {},
   "outputs": [
    {
     "name": "stdout",
     "output_type": "stream",
     "text": [
      "인자는 1.5와 5.5입니다.\n"
     ]
    },
    {
     "data": {
      "text/plain": [
       "7.0"
      ]
     },
     "execution_count": 32,
     "metadata": {},
     "output_type": "execute_result"
    }
   ],
   "source": [
    "add(1.5, 5.5)"
   ]
  },
  {
   "cell_type": "code",
   "execution_count": 33,
   "metadata": {
    "collapsed": true
   },
   "outputs": [],
   "source": [
    "#1.함수 기초 실습\n",
    "def 주스기 ( 재료='딸기'):\n",
    "    '''주스기 함수\n",
    "    주스를 만들어 줍니다.'''\n",
    "    메뉴 = ['딸기', '바나나', '사과']\n",
    "    if 재료 in 메뉴:\n",
    "        주스 = 재료 + '주스'\n",
    "    else:\n",
    "        주스 = '이 걸론 주스 못만들어요.'\n",
    "        가격 = 0\n",
    "    return 주스"
   ]
  },
  {
   "cell_type": "code",
   "execution_count": 34,
   "metadata": {},
   "outputs": [
    {
     "name": "stdout",
     "output_type": "stream",
     "text": [
      "Help on function 주스기 in module __main__:\n",
      "\n",
      "주스기(재료='딸기')\n",
      "    주스기 함수\n",
      "    주스를 만들어 줍니다.\n",
      "\n"
     ]
    }
   ],
   "source": [
    "help(주스기)"
   ]
  },
  {
   "cell_type": "code",
   "execution_count": 35,
   "metadata": {},
   "outputs": [
    {
     "data": {
      "text/plain": [
       "'사과주스'"
      ]
     },
     "execution_count": 35,
     "metadata": {},
     "output_type": "execute_result"
    }
   ],
   "source": [
    "주스기('사과')"
   ]
  },
  {
   "cell_type": "code",
   "execution_count": 36,
   "metadata": {},
   "outputs": [
    {
     "data": {
      "text/plain": [
       "'딸기주스'"
      ]
     },
     "execution_count": 36,
     "metadata": {},
     "output_type": "execute_result"
    }
   ],
   "source": [
    "주스기()"
   ]
  },
  {
   "cell_type": "code",
   "execution_count": 37,
   "metadata": {},
   "outputs": [
    {
     "name": "stdout",
     "output_type": "stream",
     "text": [
      "이 걸론 주스 못만들어요.\n"
     ]
    }
   ],
   "source": [
    "결과 = 주스기('자몽')\n",
    "print(결과)"
   ]
  },
  {
   "cell_type": "code",
   "execution_count": 38,
   "metadata": {
    "collapsed": true
   },
   "outputs": [],
   "source": [
    "#2. 여러 값을 리턴하기 \n",
    "def 주스기2 ( 재료='딸기'):\n",
    "    메뉴 = {'딸기':10, '바나나':20, '사과':30}\n",
    "    if 재료 in 메뉴:\n",
    "        print(재료)\n",
    "        주스 = 재료 + '주스'\n",
    "        가격 = 메뉴[재료]\n",
    "    else:\n",
    "        주스 = '이 걸론 주스 못만들어요.'\n",
    "    return 주스, 가격 #튜플 형태로 리턴.하나의 객체를 반환하는 것이고, 여러 값을 하나의 튜플 객체로 반환하는 것임."
   ]
  },
  {
   "cell_type": "code",
   "execution_count": 39,
   "metadata": {},
   "outputs": [
    {
     "name": "stdout",
     "output_type": "stream",
     "text": [
      "바나나\n"
     ]
    }
   ],
   "source": [
    "결과2 = 주스기2('바나나')"
   ]
  },
  {
   "cell_type": "code",
   "execution_count": 40,
   "metadata": {},
   "outputs": [
    {
     "data": {
      "text/plain": [
       "tuple"
      ]
     },
     "execution_count": 40,
     "metadata": {},
     "output_type": "execute_result"
    }
   ],
   "source": [
    "type(결과2)"
   ]
  },
  {
   "cell_type": "code",
   "execution_count": 41,
   "metadata": {},
   "outputs": [
    {
     "data": {
      "text/plain": [
       "('바나나주스', 20)"
      ]
     },
     "execution_count": 41,
     "metadata": {},
     "output_type": "execute_result"
    }
   ],
   "source": [
    "결과2"
   ]
  },
  {
   "cell_type": "code",
   "execution_count": 42,
   "metadata": {
    "collapsed": true
   },
   "outputs": [],
   "source": [
    "주스,가격  = 결과2"
   ]
  },
  {
   "cell_type": "code",
   "execution_count": 43,
   "metadata": {},
   "outputs": [
    {
     "data": {
      "text/plain": [
       "'바나나주스'"
      ]
     },
     "execution_count": 43,
     "metadata": {},
     "output_type": "execute_result"
    }
   ],
   "source": [
    "주스"
   ]
  },
  {
   "cell_type": "code",
   "execution_count": 44,
   "metadata": {},
   "outputs": [
    {
     "data": {
      "text/plain": [
       "20"
      ]
     },
     "execution_count": 44,
     "metadata": {},
     "output_type": "execute_result"
    }
   ],
   "source": [
    "가격"
   ]
  },
  {
   "cell_type": "code",
   "execution_count": 45,
   "metadata": {
    "collapsed": true
   },
   "outputs": [],
   "source": [
    "#3. 여러 개 인자 & 기본값 설정 실습\n",
    "def 주스기3 ( 재료='딸기', 닉네임 = None): #앞 파라미터에 기본값이 설정되어 있다면, 뒤 파라미터들도 모두 기본값이 있어야 한다.\n",
    "    메뉴 = {'딸기':10, '바나나':20, '사과':30}\n",
    "    if 재료 in 메뉴:\n",
    "        주스 = 재료 + '주스'\n",
    "        가격 = 메뉴[재료]\n",
    "        if 닉네임:\n",
    "            print('{0}님, {1} 나왔습니다.'.format(닉네임, 주스))\n",
    "    else:\n",
    "        주스 = '이 걸론 주스 못만들어요.'\n",
    "        가격 = 0\n",
    "    return 주스, 가격 "
   ]
  },
  {
   "cell_type": "code",
   "execution_count": 46,
   "metadata": {},
   "outputs": [
    {
     "name": "stdout",
     "output_type": "stream",
     "text": [
      "박홍규님, 딸기주스 나왔습니다.\n"
     ]
    },
    {
     "data": {
      "text/plain": [
       "('딸기주스', 10)"
      ]
     },
     "execution_count": 46,
     "metadata": {},
     "output_type": "execute_result"
    }
   ],
   "source": [
    "주스기3('딸기', '박홍규')"
   ]
  },
  {
   "cell_type": "code",
   "execution_count": 47,
   "metadata": {},
   "outputs": [
    {
     "name": "stdout",
     "output_type": "stream",
     "text": [
      "park님, 바나나주스 나왔습니다.\n"
     ]
    }
   ],
   "source": [
    "주스, 가격 = 주스기3 (닉네임='park', 재료='바나나')"
   ]
  },
  {
   "cell_type": "code",
   "execution_count": 48,
   "metadata": {
    "collapsed": true
   },
   "outputs": [],
   "source": [
    "#4. 함수도 객체다!\n",
    "juicer = 주스기3"
   ]
  },
  {
   "cell_type": "code",
   "execution_count": 49,
   "metadata": {},
   "outputs": [
    {
     "data": {
      "text/plain": [
       "<function __main__.주스기3>"
      ]
     },
     "execution_count": 49,
     "metadata": {},
     "output_type": "execute_result"
    }
   ],
   "source": [
    "juicer"
   ]
  },
  {
   "cell_type": "code",
   "execution_count": 50,
   "metadata": {},
   "outputs": [
    {
     "name": "stdout",
     "output_type": "stream",
     "text": [
      "안녕\n"
     ]
    }
   ],
   "source": [
    "표시 = print\n",
    "표시('안녕')"
   ]
  },
  {
   "cell_type": "code",
   "execution_count": 51,
   "metadata": {},
   "outputs": [
    {
     "name": "stdout",
     "output_type": "stream",
     "text": [
      "<class 'function'>\n"
     ]
    }
   ],
   "source": [
    "print(type(juicer))"
   ]
  },
  {
   "cell_type": "code",
   "execution_count": 52,
   "metadata": {},
   "outputs": [
    {
     "name": "stdout",
     "output_type": "stream",
     "text": [
      "<class 'str'>\n"
     ]
    }
   ],
   "source": [
    "print(type(주스))"
   ]
  },
  {
   "cell_type": "code",
   "execution_count": 53,
   "metadata": {
    "collapsed": true
   },
   "outputs": [],
   "source": [
    "def 집계 (방법, data):\n",
    "    결과 = 방법(data)\n",
    "    return 결과\n",
    "#함수를 사용한 함수. High-order Function 고계함수\n",
    "#함수 자체를 또다른 함수의 인자로 넘길 수 있다. \n",
    "#파이썬 라이브러리에서 광범위하게 사용하는 패턴."
   ]
  },
  {
   "cell_type": "code",
   "execution_count": 54,
   "metadata": {},
   "outputs": [
    {
     "data": {
      "text/plain": [
       "[1, 2, 3, 4, 5, 6, 7, 8, 9]"
      ]
     },
     "execution_count": 54,
     "metadata": {},
     "output_type": "execute_result"
    }
   ],
   "source": [
    "data = list(range(1,10))\n",
    "data"
   ]
  },
  {
   "cell_type": "code",
   "execution_count": 55,
   "metadata": {},
   "outputs": [
    {
     "data": {
      "text/plain": [
       "45"
      ]
     },
     "execution_count": 55,
     "metadata": {},
     "output_type": "execute_result"
    }
   ],
   "source": [
    "집계(sum, data)"
   ]
  },
  {
   "cell_type": "code",
   "execution_count": 56,
   "metadata": {},
   "outputs": [
    {
     "data": {
      "text/plain": [
       "9"
      ]
     },
     "execution_count": 56,
     "metadata": {},
     "output_type": "execute_result"
    }
   ],
   "source": [
    "집계(max, data)"
   ]
  },
  {
   "cell_type": "code",
   "execution_count": 57,
   "metadata": {},
   "outputs": [
    {
     "data": {
      "text/plain": [
       "1"
      ]
     },
     "execution_count": 57,
     "metadata": {},
     "output_type": "execute_result"
    }
   ],
   "source": [
    "집계(min, data)"
   ]
  },
  {
   "cell_type": "code",
   "execution_count": 58,
   "metadata": {
    "collapsed": true
   },
   "outputs": [],
   "source": [
    "def 제곱합 (data):\n",
    "    return sum(n**2 for n in data)"
   ]
  },
  {
   "cell_type": "code",
   "execution_count": 59,
   "metadata": {},
   "outputs": [
    {
     "data": {
      "text/plain": [
       "285"
      ]
     },
     "execution_count": 59,
     "metadata": {},
     "output_type": "execute_result"
    }
   ],
   "source": [
    "제곱합(data)"
   ]
  },
  {
   "cell_type": "code",
   "execution_count": 60,
   "metadata": {},
   "outputs": [
    {
     "data": {
      "text/plain": [
       "285"
      ]
     },
     "execution_count": 60,
     "metadata": {},
     "output_type": "execute_result"
    }
   ],
   "source": [
    "집계(제곱합, data)"
   ]
  },
  {
   "cell_type": "code",
   "execution_count": 61,
   "metadata": {
    "collapsed": true
   },
   "outputs": [],
   "source": [
    "def 숫자표현(n):\n",
    "    return '{0:.2f}'.format(n)"
   ]
  },
  {
   "cell_type": "code",
   "execution_count": 62,
   "metadata": {},
   "outputs": [
    {
     "data": {
      "text/plain": [
       "[0.3333333333333333, 0.6666666666666666, 0.42857142857142855]"
      ]
     },
     "execution_count": 62,
     "metadata": {},
     "output_type": "execute_result"
    }
   ],
   "source": [
    "nums = [1/3, 2/3, 3/7]\n",
    "nums"
   ]
  },
  {
   "cell_type": "code",
   "execution_count": 63,
   "metadata": {},
   "outputs": [
    {
     "data": {
      "text/plain": [
       "['0.33', '0.67', '0.43']"
      ]
     },
     "execution_count": 63,
     "metadata": {},
     "output_type": "execute_result"
    }
   ],
   "source": [
    "[숫자표현(n) for n in nums]"
   ]
  },
  {
   "cell_type": "code",
   "execution_count": 64,
   "metadata": {
    "collapsed": true
   },
   "outputs": [],
   "source": [
    "#5. 가변인자 함수\n",
    "def 제곱합(*nums): #*표시는 가변 인자임.\n",
    "    print(nums)\n",
    "    return sum(n**2 for n in nums) #본문에서는 리스트 형태로 인자를 사용 가능함. "
   ]
  },
  {
   "cell_type": "code",
   "execution_count": 65,
   "metadata": {},
   "outputs": [
    {
     "name": "stdout",
     "output_type": "stream",
     "text": [
      "(1,)\n"
     ]
    },
    {
     "data": {
      "text/plain": [
       "1"
      ]
     },
     "execution_count": 65,
     "metadata": {},
     "output_type": "execute_result"
    }
   ],
   "source": [
    "제곱합(1)"
   ]
  },
  {
   "cell_type": "code",
   "execution_count": 66,
   "metadata": {},
   "outputs": [
    {
     "name": "stdout",
     "output_type": "stream",
     "text": [
      "(1, 2, 3)\n"
     ]
    },
    {
     "data": {
      "text/plain": [
       "14"
      ]
     },
     "execution_count": 66,
     "metadata": {},
     "output_type": "execute_result"
    }
   ],
   "source": [
    "제곱합(1,2,3)"
   ]
  },
  {
   "cell_type": "code",
   "execution_count": 67,
   "metadata": {
    "collapsed": true
   },
   "outputs": [],
   "source": [
    "#6. 키워드 인자\n",
    "def 인자실습(a,b, *args, **keywords):\n",
    "    print(a, b, args, keywords)"
   ]
  },
  {
   "cell_type": "code",
   "execution_count": 68,
   "metadata": {},
   "outputs": [
    {
     "name": "stdout",
     "output_type": "stream",
     "text": [
      "1 2 ('dongyang', 'mirae') {'주소': '구로구', '전화번호': '02-2610-1837'}\n"
     ]
    }
   ],
   "source": [
    "인자실습(1,2, 'dongyang', 'mirae', 주소='구로구', 전화번호 = '02-2610-1837')"
   ]
  },
  {
   "cell_type": "code",
   "execution_count": null,
   "metadata": {
    "collapsed": true
   },
   "outputs": [],
   "source": []
  }
 ],
 "metadata": {
  "kernelspec": {
   "display_name": "Python 3",
   "language": "python",
   "name": "python3"
  },
  "language_info": {
   "codemirror_mode": {
    "name": "ipython",
    "version": 3
   },
   "file_extension": ".py",
   "mimetype": "text/x-python",
   "name": "python",
   "nbconvert_exporter": "python",
   "pygments_lexer": "ipython3",
   "version": "3.6.3"
  }
 },
 "nbformat": 4,
 "nbformat_minor": 2
}
